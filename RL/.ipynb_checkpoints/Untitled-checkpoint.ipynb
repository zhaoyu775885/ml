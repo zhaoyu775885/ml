{
 "cells": [
  {
   "cell_type": "code",
   "execution_count": 1,
   "metadata": {},
   "outputs": [],
   "source": [
    "import tkinter as tk\n",
    "import numpy as np"
   ]
  },
  {
   "cell_type": "code",
   "execution_count": 30,
   "metadata": {},
   "outputs": [],
   "source": [
    "MAZE_SIDE = 100\n",
    "\n",
    "class Maze(tk.Tk):\n",
    "    def __init__(self, nrow=4, ncol=4, title='Maze'):\n",
    "        super(Maze, self).__init__()\n",
    "        self.blk_sz, self.nrow, self.ncol = MAZE_SIDE, nrow, ncol\n",
    "        self.height = self.blk_sz*self.nrow\n",
    "        self.width = self.blk_sz*self.ncol\n",
    "        self.geometry('{0}x{1}'.format(self.height, self.width))\n",
    "        self.title(title)\n",
    "        self._init_maze()\n",
    "        \n",
    "    def _init_maze(self):\n",
    "        self.canvas = tk.Canvas(self, bg='white', height=self.height, width=self.width)\n",
    "        for c in range(0, self.height, self.blk_sz):\n",
    "            x0, y0, x1, y1 = c, 0, c, self.height\n",
    "            self.canvas.create_line(x0, y0, x1, y1)\n",
    "        for r in range(0, self.width, self.blk_sz):\n",
    "            x0, y0, x1, y1 = 0, r, self.width, r\n",
    "            self.canvas.create_line(x0, y0, x1, y1)\n",
    "            \n",
    "    def _draw_blk(self, row_idx=1, col_idx=1, color='black'):\n",
    "        origin = np.array([row_idx*self.blk_sz, col_idx*self.blk_sz])\n",
    "        self.rect = self.canvas.create_rectangle(origin[0], origin[1], \n",
    "            origin[0]+self.blk_sz, origin[1]+self.blk_sz, fill=color)\n",
    "    def draw_treasure(self, row_idx, col_idx):\n",
    "        self._draw_blk(row_idx, col_idx, 'yellow')\n",
    "        \n",
    "    def show_maze(self):\n",
    "        self.canvas.pack()"
   ]
  },
  {
   "cell_type": "code",
   "execution_count": 31,
   "metadata": {},
   "outputs": [],
   "source": [
    "maze = Maze(5, 5)"
   ]
  },
  {
   "cell_type": "code",
   "execution_count": 32,
   "metadata": {},
   "outputs": [],
   "source": [
    "maze.draw_treasure(2, 3)\n",
    "maze.show_maze()\n",
    "maze.mainloop()"
   ]
  },
  {
   "cell_type": "code",
   "execution_count": null,
   "metadata": {},
   "outputs": [],
   "source": []
  },
  {
   "cell_type": "code",
   "execution_count": null,
   "metadata": {},
   "outputs": [],
   "source": []
  }
 ],
 "metadata": {
  "kernelspec": {
   "display_name": "Python 3",
   "language": "python",
   "name": "python3"
  },
  "language_info": {
   "codemirror_mode": {
    "name": "ipython",
    "version": 3
   },
   "file_extension": ".py",
   "mimetype": "text/x-python",
   "name": "python",
   "nbconvert_exporter": "python",
   "pygments_lexer": "ipython3",
   "version": "3.6.7"
  }
 },
 "nbformat": 4,
 "nbformat_minor": 2
}
